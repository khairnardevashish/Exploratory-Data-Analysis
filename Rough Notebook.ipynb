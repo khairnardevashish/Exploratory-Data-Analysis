{
 "cells": [
  {
   "cell_type": "code",
   "execution_count": 1,
   "metadata": {},
   "outputs": [],
   "source": [
    "import pandas as pd\n",
    "import numpy as np\n",
    "import matplotlib.pyplot as plt\n",
    "import seaborn as sns"
   ]
  },
  {
   "cell_type": "code",
   "execution_count": 9,
   "metadata": {},
   "outputs": [],
   "source": [
    "from pandas import ExcelWriter\n",
    "from pandas import ExcelFile\n"
   ]
  },
  {
   "cell_type": "code",
   "execution_count": 94,
   "metadata": {},
   "outputs": [],
   "source": [
    "df = pd.read_csv('https://query.data.world/s/HqjNNadqEnwSq1qnoV_JqyRJkc7o6O')"
   ]
  },
  {
   "cell_type": "code",
   "execution_count": 95,
   "metadata": {},
   "outputs": [
    {
     "data": {
      "text/html": [
       "<div>\n",
       "<style scoped>\n",
       "    .dataframe tbody tr th:only-of-type {\n",
       "        vertical-align: middle;\n",
       "    }\n",
       "\n",
       "    .dataframe tbody tr th {\n",
       "        vertical-align: top;\n",
       "    }\n",
       "\n",
       "    .dataframe thead th {\n",
       "        text-align: right;\n",
       "    }\n",
       "</style>\n",
       "<table border=\"1\" class=\"dataframe\">\n",
       "  <thead>\n",
       "    <tr style=\"text-align: right;\">\n",
       "      <th></th>\n",
       "      <th>Prefix</th>\n",
       "      <th>Assignment</th>\n",
       "      <th>Tutorial</th>\n",
       "      <th>Midterm</th>\n",
       "      <th>TakeHome</th>\n",
       "      <th>Final</th>\n",
       "    </tr>\n",
       "  </thead>\n",
       "  <tbody>\n",
       "    <tr>\n",
       "      <th>0</th>\n",
       "      <td>5</td>\n",
       "      <td>57.14</td>\n",
       "      <td>34.09</td>\n",
       "      <td>64.38</td>\n",
       "      <td>51.48</td>\n",
       "      <td>52.50</td>\n",
       "    </tr>\n",
       "    <tr>\n",
       "      <th>1</th>\n",
       "      <td>8</td>\n",
       "      <td>95.05</td>\n",
       "      <td>105.49</td>\n",
       "      <td>67.50</td>\n",
       "      <td>99.07</td>\n",
       "      <td>68.33</td>\n",
       "    </tr>\n",
       "    <tr>\n",
       "      <th>2</th>\n",
       "      <td>8</td>\n",
       "      <td>83.70</td>\n",
       "      <td>83.17</td>\n",
       "      <td>30.00</td>\n",
       "      <td>63.15</td>\n",
       "      <td>48.89</td>\n",
       "    </tr>\n",
       "    <tr>\n",
       "      <th>3</th>\n",
       "      <td>7</td>\n",
       "      <td>81.22</td>\n",
       "      <td>96.06</td>\n",
       "      <td>49.38</td>\n",
       "      <td>105.93</td>\n",
       "      <td>80.56</td>\n",
       "    </tr>\n",
       "    <tr>\n",
       "      <th>4</th>\n",
       "      <td>8</td>\n",
       "      <td>91.32</td>\n",
       "      <td>93.64</td>\n",
       "      <td>95.00</td>\n",
       "      <td>107.41</td>\n",
       "      <td>73.89</td>\n",
       "    </tr>\n",
       "  </tbody>\n",
       "</table>\n",
       "</div>"
      ],
      "text/plain": [
       "   Prefix  Assignment  Tutorial  Midterm  TakeHome  Final\n",
       "0       5       57.14     34.09    64.38     51.48  52.50\n",
       "1       8       95.05    105.49    67.50     99.07  68.33\n",
       "2       8       83.70     83.17    30.00     63.15  48.89\n",
       "3       7       81.22     96.06    49.38    105.93  80.56\n",
       "4       8       91.32     93.64    95.00    107.41  73.89"
      ]
     },
     "execution_count": 95,
     "metadata": {},
     "output_type": "execute_result"
    }
   ],
   "source": [
    "df.head()"
   ]
  },
  {
   "cell_type": "code",
   "execution_count": 96,
   "metadata": {},
   "outputs": [
    {
     "data": {
      "text/plain": [
       "Prefix         0\n",
       "Assignment     2\n",
       "Tutorial      12\n",
       "Midterm       16\n",
       "TakeHome       9\n",
       "Final          5\n",
       "dtype: int64"
      ]
     },
     "execution_count": 96,
     "metadata": {},
     "output_type": "execute_result"
    }
   ],
   "source": [
    "df.isnull().sum()\n",
    "df.shape\n",
    "df.isnull().sum(axis = 0)"
   ]
  },
  {
   "cell_type": "code",
   "execution_count": 99,
   "metadata": {},
   "outputs": [
    {
     "ename": "TypeError",
     "evalue": "bad operand type for unary -: 'list'",
     "output_type": "error",
     "traceback": [
      "\u001b[1;31m---------------------------------------------------------------------------\u001b[0m",
      "\u001b[1;31mTypeError\u001b[0m                                 Traceback (most recent call last)",
      "\u001b[1;32m<ipython-input-99-da70e1d4a1f4>\u001b[0m in \u001b[0;36m<module>\u001b[1;34m\u001b[0m\n\u001b[1;32m----> 1\u001b[1;33m \u001b[0mdf\u001b[0m \u001b[1;33m=\u001b[0m \u001b[0mdf\u001b[0m\u001b[1;33m[\u001b[0m\u001b[1;33m-\u001b[0m\u001b[1;33m[\u001b[0m\u001b[0mdf\u001b[0m\u001b[1;33m.\u001b[0m\u001b[0misnull\u001b[0m\u001b[1;33m(\u001b[0m\u001b[1;33m)\u001b[0m\u001b[1;33m.\u001b[0m\u001b[0msum\u001b[0m\u001b[1;33m(\u001b[0m\u001b[0maxis\u001b[0m \u001b[1;33m=\u001b[0m \u001b[1;36m1\u001b[0m\u001b[1;33m)\u001b[0m \u001b[1;33m==\u001b[0m \u001b[1;36m5\u001b[0m \u001b[1;33m]\u001b[0m\u001b[1;33m]\u001b[0m\u001b[1;33m\u001b[0m\u001b[1;33m\u001b[0m\u001b[0m\n\u001b[0m",
      "\u001b[1;31mTypeError\u001b[0m: bad operand type for unary -: 'list'"
     ]
    }
   ],
   "source": [
    "df.drop(df[df.isnull().sum(axis = 1) == 5 ].index, axis = 0, inplace =True)"
   ]
  },
  {
   "cell_type": "code",
   "execution_count": 93,
   "metadata": {},
   "outputs": [
    {
     "data": {
      "text/plain": [
       "(97, 0)"
      ]
     },
     "execution_count": 93,
     "metadata": {},
     "output_type": "execute_result"
    }
   ],
   "source": [
    "df.head()\n",
    "df.shape"
   ]
  },
  {
   "cell_type": "code",
   "execution_count": 86,
   "metadata": {},
   "outputs": [
    {
     "name": "stdout",
     "output_type": "stream",
     "text": [
      "Prefix         0\n",
      "Assignment     0\n",
      "Tutorial      10\n",
      "Midterm       14\n",
      "TakeHome       7\n",
      "Final          3\n",
      "dtype: int64\n"
     ]
    }
   ],
   "source": [
    "print(df.isnull().sum())"
   ]
  },
  {
   "cell_type": "code",
   "execution_count": 127,
   "metadata": {},
   "outputs": [],
   "source": [
    "import pandas as pd\n",
    "df = pd.read_csv('https://query.data.world/s/y9rxL9mGdP6AXPiDaIL4yYm6DsfTV2')"
   ]
  },
  {
   "cell_type": "code",
   "execution_count": 128,
   "metadata": {},
   "outputs": [
    {
     "data": {
      "text/html": [
       "<div>\n",
       "<style scoped>\n",
       "    .dataframe tbody tr th:only-of-type {\n",
       "        vertical-align: middle;\n",
       "    }\n",
       "\n",
       "    .dataframe tbody tr th {\n",
       "        vertical-align: top;\n",
       "    }\n",
       "\n",
       "    .dataframe thead th {\n",
       "        text-align: right;\n",
       "    }\n",
       "</style>\n",
       "<table border=\"1\" class=\"dataframe\">\n",
       "  <thead>\n",
       "    <tr style=\"text-align: right;\">\n",
       "      <th></th>\n",
       "      <th>Customer_Name</th>\n",
       "      <th>Province</th>\n",
       "      <th>Region</th>\n",
       "      <th>Customer_Segment</th>\n",
       "      <th>Cust_id</th>\n",
       "    </tr>\n",
       "  </thead>\n",
       "  <tbody>\n",
       "    <tr>\n",
       "      <th>0</th>\n",
       "      <td>MUHAMMED MACINTYRE</td>\n",
       "      <td>NUNAVUT</td>\n",
       "      <td>NUNAVUT</td>\n",
       "      <td>SMALL BUSINESS</td>\n",
       "      <td>Cust_1</td>\n",
       "    </tr>\n",
       "    <tr>\n",
       "      <th>1</th>\n",
       "      <td>BARRY FRENCH</td>\n",
       "      <td>NUNAVUT</td>\n",
       "      <td>NUNAVUT</td>\n",
       "      <td>CONSUMER</td>\n",
       "      <td>Cust_2</td>\n",
       "    </tr>\n",
       "    <tr>\n",
       "      <th>2</th>\n",
       "      <td>CLAY ROZENDAL</td>\n",
       "      <td>NUNAVUT</td>\n",
       "      <td>NUNAVUT</td>\n",
       "      <td>CORPORATE</td>\n",
       "      <td>Cust_3</td>\n",
       "    </tr>\n",
       "    <tr>\n",
       "      <th>3</th>\n",
       "      <td>CARLOS SOLTERO</td>\n",
       "      <td>NUNAVUT</td>\n",
       "      <td>NUNAVUT</td>\n",
       "      <td>CONSUMER</td>\n",
       "      <td>Cust_4</td>\n",
       "    </tr>\n",
       "    <tr>\n",
       "      <th>4</th>\n",
       "      <td>CARL JACKSON</td>\n",
       "      <td>NUNAVUT</td>\n",
       "      <td>NUNAVUT</td>\n",
       "      <td>CORPORATE</td>\n",
       "      <td>Cust_5</td>\n",
       "    </tr>\n",
       "  </tbody>\n",
       "</table>\n",
       "</div>"
      ],
      "text/plain": [
       "        Customer_Name Province   Region Customer_Segment Cust_id\n",
       "0  MUHAMMED MACINTYRE  NUNAVUT  NUNAVUT   SMALL BUSINESS  Cust_1\n",
       "1        BARRY FRENCH  NUNAVUT  NUNAVUT         CONSUMER  Cust_2\n",
       "2       CLAY ROZENDAL  NUNAVUT  NUNAVUT        CORPORATE  Cust_3\n",
       "3      CARLOS SOLTERO  NUNAVUT  NUNAVUT         CONSUMER  Cust_4\n",
       "4        CARL JACKSON  NUNAVUT  NUNAVUT        CORPORATE  Cust_5"
      ]
     },
     "execution_count": 128,
     "metadata": {},
     "output_type": "execute_result"
    }
   ],
   "source": [
    "df.head()"
   ]
  },
  {
   "cell_type": "code",
   "execution_count": 129,
   "metadata": {},
   "outputs": [],
   "source": [
    "df.Cust_id = df.Cust_id.apply(lambda x : pd.Series(str(x).split(\"_\")[1]))"
   ]
  },
  {
   "cell_type": "code",
   "execution_count": 130,
   "metadata": {},
   "outputs": [
    {
     "data": {
      "text/html": [
       "<div>\n",
       "<style scoped>\n",
       "    .dataframe tbody tr th:only-of-type {\n",
       "        vertical-align: middle;\n",
       "    }\n",
       "\n",
       "    .dataframe tbody tr th {\n",
       "        vertical-align: top;\n",
       "    }\n",
       "\n",
       "    .dataframe thead th {\n",
       "        text-align: right;\n",
       "    }\n",
       "</style>\n",
       "<table border=\"1\" class=\"dataframe\">\n",
       "  <thead>\n",
       "    <tr style=\"text-align: right;\">\n",
       "      <th></th>\n",
       "      <th>Customer_Name</th>\n",
       "      <th>Province</th>\n",
       "      <th>Region</th>\n",
       "      <th>Customer_Segment</th>\n",
       "      <th>Cust_id</th>\n",
       "    </tr>\n",
       "  </thead>\n",
       "  <tbody>\n",
       "    <tr>\n",
       "      <th>0</th>\n",
       "      <td>MUHAMMED MACINTYRE</td>\n",
       "      <td>NUNAVUT</td>\n",
       "      <td>NUNAVUT</td>\n",
       "      <td>SMALL BUSINESS</td>\n",
       "      <td>1</td>\n",
       "    </tr>\n",
       "    <tr>\n",
       "      <th>1</th>\n",
       "      <td>BARRY FRENCH</td>\n",
       "      <td>NUNAVUT</td>\n",
       "      <td>NUNAVUT</td>\n",
       "      <td>CONSUMER</td>\n",
       "      <td>2</td>\n",
       "    </tr>\n",
       "    <tr>\n",
       "      <th>2</th>\n",
       "      <td>CLAY ROZENDAL</td>\n",
       "      <td>NUNAVUT</td>\n",
       "      <td>NUNAVUT</td>\n",
       "      <td>CORPORATE</td>\n",
       "      <td>3</td>\n",
       "    </tr>\n",
       "    <tr>\n",
       "      <th>3</th>\n",
       "      <td>CARLOS SOLTERO</td>\n",
       "      <td>NUNAVUT</td>\n",
       "      <td>NUNAVUT</td>\n",
       "      <td>CONSUMER</td>\n",
       "      <td>4</td>\n",
       "    </tr>\n",
       "    <tr>\n",
       "      <th>4</th>\n",
       "      <td>CARL JACKSON</td>\n",
       "      <td>NUNAVUT</td>\n",
       "      <td>NUNAVUT</td>\n",
       "      <td>CORPORATE</td>\n",
       "      <td>5</td>\n",
       "    </tr>\n",
       "  </tbody>\n",
       "</table>\n",
       "</div>"
      ],
      "text/plain": [
       "        Customer_Name Province   Region Customer_Segment Cust_id\n",
       "0  MUHAMMED MACINTYRE  NUNAVUT  NUNAVUT   SMALL BUSINESS       1\n",
       "1        BARRY FRENCH  NUNAVUT  NUNAVUT         CONSUMER       2\n",
       "2       CLAY ROZENDAL  NUNAVUT  NUNAVUT        CORPORATE       3\n",
       "3      CARLOS SOLTERO  NUNAVUT  NUNAVUT         CONSUMER       4\n",
       "4        CARL JACKSON  NUNAVUT  NUNAVUT        CORPORATE       5"
      ]
     },
     "execution_count": 130,
     "metadata": {},
     "output_type": "execute_result"
    }
   ],
   "source": [
    "df.head()"
   ]
  },
  {
   "cell_type": "code",
   "execution_count": null,
   "metadata": {},
   "outputs": [],
   "source": []
  }
 ],
 "metadata": {
  "kernelspec": {
   "display_name": "Python 3",
   "language": "python",
   "name": "python3"
  },
  "language_info": {
   "codemirror_mode": {
    "name": "ipython",
    "version": 3
   },
   "file_extension": ".py",
   "mimetype": "text/x-python",
   "name": "python",
   "nbconvert_exporter": "python",
   "pygments_lexer": "ipython3",
   "version": "3.8.5"
  }
 },
 "nbformat": 4,
 "nbformat_minor": 4
}
