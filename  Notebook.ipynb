{
 "cells": [
  {
   "cell_type": "code",
   "execution_count": 4,
   "metadata": {},
   "outputs": [],
   "source": [
    "import pandas as pd\n",
    "import numpy as np\n",
    "import matplotlib.pyplot as plt\n",
    "import seaborn as sns"
   ]
  },
  {
   "cell_type": "code",
   "execution_count": 5,
   "metadata": {},
   "outputs": [],
   "source": [
    "from pandas import ExcelWriter\n",
    "from pandas import ExcelFile\n"
   ]
  },
  {
   "cell_type": "code",
   "execution_count": 6,
   "metadata": {},
   "outputs": [],
   "source": [
    "df = pd.read_csv('https://query.data.world/s/HqjNNadqEnwSq1qnoV_JqyRJkc7o6O')"
   ]
  },
  {
   "cell_type": "code",
   "execution_count": 7,
   "metadata": {},
   "outputs": [
    {
     "data": {
      "text/html": [
       "<div>\n",
       "<style scoped>\n",
       "    .dataframe tbody tr th:only-of-type {\n",
       "        vertical-align: middle;\n",
       "    }\n",
       "\n",
       "    .dataframe tbody tr th {\n",
       "        vertical-align: top;\n",
       "    }\n",
       "\n",
       "    .dataframe thead th {\n",
       "        text-align: right;\n",
       "    }\n",
       "</style>\n",
       "<table border=\"1\" class=\"dataframe\">\n",
       "  <thead>\n",
       "    <tr style=\"text-align: right;\">\n",
       "      <th></th>\n",
       "      <th>Prefix</th>\n",
       "      <th>Assignment</th>\n",
       "      <th>Tutorial</th>\n",
       "      <th>Midterm</th>\n",
       "      <th>TakeHome</th>\n",
       "      <th>Final</th>\n",
       "    </tr>\n",
       "  </thead>\n",
       "  <tbody>\n",
       "    <tr>\n",
       "      <th>0</th>\n",
       "      <td>5</td>\n",
       "      <td>57.14</td>\n",
       "      <td>34.09</td>\n",
       "      <td>64.38</td>\n",
       "      <td>51.48</td>\n",
       "      <td>52.50</td>\n",
       "    </tr>\n",
       "    <tr>\n",
       "      <th>1</th>\n",
       "      <td>8</td>\n",
       "      <td>95.05</td>\n",
       "      <td>105.49</td>\n",
       "      <td>67.50</td>\n",
       "      <td>99.07</td>\n",
       "      <td>68.33</td>\n",
       "    </tr>\n",
       "    <tr>\n",
       "      <th>2</th>\n",
       "      <td>8</td>\n",
       "      <td>83.70</td>\n",
       "      <td>83.17</td>\n",
       "      <td>30.00</td>\n",
       "      <td>63.15</td>\n",
       "      <td>48.89</td>\n",
       "    </tr>\n",
       "    <tr>\n",
       "      <th>3</th>\n",
       "      <td>7</td>\n",
       "      <td>81.22</td>\n",
       "      <td>96.06</td>\n",
       "      <td>49.38</td>\n",
       "      <td>105.93</td>\n",
       "      <td>80.56</td>\n",
       "    </tr>\n",
       "    <tr>\n",
       "      <th>4</th>\n",
       "      <td>8</td>\n",
       "      <td>91.32</td>\n",
       "      <td>93.64</td>\n",
       "      <td>95.00</td>\n",
       "      <td>107.41</td>\n",
       "      <td>73.89</td>\n",
       "    </tr>\n",
       "  </tbody>\n",
       "</table>\n",
       "</div>"
      ],
      "text/plain": [
       "   Prefix  Assignment  Tutorial  Midterm  TakeHome  Final\n",
       "0       5       57.14     34.09    64.38     51.48  52.50\n",
       "1       8       95.05    105.49    67.50     99.07  68.33\n",
       "2       8       83.70     83.17    30.00     63.15  48.89\n",
       "3       7       81.22     96.06    49.38    105.93  80.56\n",
       "4       8       91.32     93.64    95.00    107.41  73.89"
      ]
     },
     "execution_count": 7,
     "metadata": {},
     "output_type": "execute_result"
    }
   ],
   "source": [
    "df.head()"
   ]
  },
  {
   "cell_type": "code",
   "execution_count": 8,
   "metadata": {},
   "outputs": [
    {
     "data": {
      "text/plain": [
       "Prefix         0\n",
       "Assignment     2\n",
       "Tutorial      12\n",
       "Midterm       16\n",
       "TakeHome       9\n",
       "Final          5\n",
       "dtype: int64"
      ]
     },
     "execution_count": 8,
     "metadata": {},
     "output_type": "execute_result"
    }
   ],
   "source": [
    "df.isnull().sum()\n",
    "df.shape\n",
    "df.isnull().sum(axis = 0)"
   ]
  },
  {
   "cell_type": "code",
   "execution_count": 9,
   "metadata": {},
   "outputs": [],
   "source": [
    "df.drop(df[df.isnull().sum(axis = 1) == 5 ].index, axis = 0, inplace =True)"
   ]
  },
  {
   "cell_type": "code",
   "execution_count": 10,
   "metadata": {},
   "outputs": [
    {
     "data": {
      "text/plain": [
       "(97, 6)"
      ]
     },
     "execution_count": 10,
     "metadata": {},
     "output_type": "execute_result"
    }
   ],
   "source": [
    "df.head()\n",
    "df.shape"
   ]
  },
  {
   "cell_type": "code",
   "execution_count": 11,
   "metadata": {},
   "outputs": [
    {
     "name": "stdout",
     "output_type": "stream",
     "text": [
      "Prefix         0\n",
      "Assignment     0\n",
      "Tutorial      10\n",
      "Midterm       14\n",
      "TakeHome       7\n",
      "Final          3\n",
      "dtype: int64\n"
     ]
    }
   ],
   "source": [
    "print(df.isnull().sum())"
   ]
  },
  {
   "cell_type": "markdown",
   "metadata": {},
   "source": [
    "### Cust_1 to 1\n"
   ]
  },
  {
   "cell_type": "code",
   "execution_count": 12,
   "metadata": {},
   "outputs": [],
   "source": [
    "\n",
    "\n",
    "import pandas as pd\n",
    "df = pd.read_csv('https://query.data.world/s/y9rxL9mGdP6AXPiDaIL4yYm6DsfTV2')"
   ]
  },
  {
   "cell_type": "code",
   "execution_count": 13,
   "metadata": {},
   "outputs": [
    {
     "data": {
      "text/html": [
       "<div>\n",
       "<style scoped>\n",
       "    .dataframe tbody tr th:only-of-type {\n",
       "        vertical-align: middle;\n",
       "    }\n",
       "\n",
       "    .dataframe tbody tr th {\n",
       "        vertical-align: top;\n",
       "    }\n",
       "\n",
       "    .dataframe thead th {\n",
       "        text-align: right;\n",
       "    }\n",
       "</style>\n",
       "<table border=\"1\" class=\"dataframe\">\n",
       "  <thead>\n",
       "    <tr style=\"text-align: right;\">\n",
       "      <th></th>\n",
       "      <th>Customer_Name</th>\n",
       "      <th>Province</th>\n",
       "      <th>Region</th>\n",
       "      <th>Customer_Segment</th>\n",
       "      <th>Cust_id</th>\n",
       "    </tr>\n",
       "  </thead>\n",
       "  <tbody>\n",
       "    <tr>\n",
       "      <th>0</th>\n",
       "      <td>MUHAMMED MACINTYRE</td>\n",
       "      <td>NUNAVUT</td>\n",
       "      <td>NUNAVUT</td>\n",
       "      <td>SMALL BUSINESS</td>\n",
       "      <td>Cust_1</td>\n",
       "    </tr>\n",
       "    <tr>\n",
       "      <th>1</th>\n",
       "      <td>BARRY FRENCH</td>\n",
       "      <td>NUNAVUT</td>\n",
       "      <td>NUNAVUT</td>\n",
       "      <td>CONSUMER</td>\n",
       "      <td>Cust_2</td>\n",
       "    </tr>\n",
       "    <tr>\n",
       "      <th>2</th>\n",
       "      <td>CLAY ROZENDAL</td>\n",
       "      <td>NUNAVUT</td>\n",
       "      <td>NUNAVUT</td>\n",
       "      <td>CORPORATE</td>\n",
       "      <td>Cust_3</td>\n",
       "    </tr>\n",
       "    <tr>\n",
       "      <th>3</th>\n",
       "      <td>CARLOS SOLTERO</td>\n",
       "      <td>NUNAVUT</td>\n",
       "      <td>NUNAVUT</td>\n",
       "      <td>CONSUMER</td>\n",
       "      <td>Cust_4</td>\n",
       "    </tr>\n",
       "    <tr>\n",
       "      <th>4</th>\n",
       "      <td>CARL JACKSON</td>\n",
       "      <td>NUNAVUT</td>\n",
       "      <td>NUNAVUT</td>\n",
       "      <td>CORPORATE</td>\n",
       "      <td>Cust_5</td>\n",
       "    </tr>\n",
       "  </tbody>\n",
       "</table>\n",
       "</div>"
      ],
      "text/plain": [
       "        Customer_Name Province   Region Customer_Segment Cust_id\n",
       "0  MUHAMMED MACINTYRE  NUNAVUT  NUNAVUT   SMALL BUSINESS  Cust_1\n",
       "1        BARRY FRENCH  NUNAVUT  NUNAVUT         CONSUMER  Cust_2\n",
       "2       CLAY ROZENDAL  NUNAVUT  NUNAVUT        CORPORATE  Cust_3\n",
       "3      CARLOS SOLTERO  NUNAVUT  NUNAVUT         CONSUMER  Cust_4\n",
       "4        CARL JACKSON  NUNAVUT  NUNAVUT        CORPORATE  Cust_5"
      ]
     },
     "execution_count": 13,
     "metadata": {},
     "output_type": "execute_result"
    }
   ],
   "source": [
    "df.head()"
   ]
  },
  {
   "cell_type": "code",
   "execution_count": 14,
   "metadata": {},
   "outputs": [],
   "source": [
    "df.Cust_id = df.Cust_id.apply(lambda x : pd.Series(str(x).split(\"_\")[1]))"
   ]
  },
  {
   "cell_type": "code",
   "execution_count": 15,
   "metadata": {},
   "outputs": [
    {
     "data": {
      "text/html": [
       "<div>\n",
       "<style scoped>\n",
       "    .dataframe tbody tr th:only-of-type {\n",
       "        vertical-align: middle;\n",
       "    }\n",
       "\n",
       "    .dataframe tbody tr th {\n",
       "        vertical-align: top;\n",
       "    }\n",
       "\n",
       "    .dataframe thead th {\n",
       "        text-align: right;\n",
       "    }\n",
       "</style>\n",
       "<table border=\"1\" class=\"dataframe\">\n",
       "  <thead>\n",
       "    <tr style=\"text-align: right;\">\n",
       "      <th></th>\n",
       "      <th>Customer_Name</th>\n",
       "      <th>Province</th>\n",
       "      <th>Region</th>\n",
       "      <th>Customer_Segment</th>\n",
       "      <th>Cust_id</th>\n",
       "    </tr>\n",
       "  </thead>\n",
       "  <tbody>\n",
       "    <tr>\n",
       "      <th>0</th>\n",
       "      <td>MUHAMMED MACINTYRE</td>\n",
       "      <td>NUNAVUT</td>\n",
       "      <td>NUNAVUT</td>\n",
       "      <td>SMALL BUSINESS</td>\n",
       "      <td>1</td>\n",
       "    </tr>\n",
       "    <tr>\n",
       "      <th>1</th>\n",
       "      <td>BARRY FRENCH</td>\n",
       "      <td>NUNAVUT</td>\n",
       "      <td>NUNAVUT</td>\n",
       "      <td>CONSUMER</td>\n",
       "      <td>2</td>\n",
       "    </tr>\n",
       "    <tr>\n",
       "      <th>2</th>\n",
       "      <td>CLAY ROZENDAL</td>\n",
       "      <td>NUNAVUT</td>\n",
       "      <td>NUNAVUT</td>\n",
       "      <td>CORPORATE</td>\n",
       "      <td>3</td>\n",
       "    </tr>\n",
       "    <tr>\n",
       "      <th>3</th>\n",
       "      <td>CARLOS SOLTERO</td>\n",
       "      <td>NUNAVUT</td>\n",
       "      <td>NUNAVUT</td>\n",
       "      <td>CONSUMER</td>\n",
       "      <td>4</td>\n",
       "    </tr>\n",
       "    <tr>\n",
       "      <th>4</th>\n",
       "      <td>CARL JACKSON</td>\n",
       "      <td>NUNAVUT</td>\n",
       "      <td>NUNAVUT</td>\n",
       "      <td>CORPORATE</td>\n",
       "      <td>5</td>\n",
       "    </tr>\n",
       "  </tbody>\n",
       "</table>\n",
       "</div>"
      ],
      "text/plain": [
       "        Customer_Name Province   Region Customer_Segment Cust_id\n",
       "0  MUHAMMED MACINTYRE  NUNAVUT  NUNAVUT   SMALL BUSINESS       1\n",
       "1        BARRY FRENCH  NUNAVUT  NUNAVUT         CONSUMER       2\n",
       "2       CLAY ROZENDAL  NUNAVUT  NUNAVUT        CORPORATE       3\n",
       "3      CARLOS SOLTERO  NUNAVUT  NUNAVUT         CONSUMER       4\n",
       "4        CARL JACKSON  NUNAVUT  NUNAVUT        CORPORATE       5"
      ]
     },
     "execution_count": 15,
     "metadata": {},
     "output_type": "execute_result"
    }
   ],
   "source": [
    "df.head()"
   ]
  },
  {
   "cell_type": "markdown",
   "metadata": {},
   "source": [
    "### Univariate EDA on Ordered Categorical Variables\n"
   ]
  },
  {
   "cell_type": "code",
   "execution_count": 16,
   "metadata": {},
   "outputs": [],
   "source": [
    "df = pd.read_csv(\"tendulkar_ODI.csv\")"
   ]
  },
  {
   "cell_type": "code",
   "execution_count": 17,
   "metadata": {},
   "outputs": [
    {
     "data": {
      "text/html": [
       "<div>\n",
       "<style scoped>\n",
       "    .dataframe tbody tr th:only-of-type {\n",
       "        vertical-align: middle;\n",
       "    }\n",
       "\n",
       "    .dataframe tbody tr th {\n",
       "        vertical-align: top;\n",
       "    }\n",
       "\n",
       "    .dataframe thead th {\n",
       "        text-align: right;\n",
       "    }\n",
       "</style>\n",
       "<table border=\"1\" class=\"dataframe\">\n",
       "  <thead>\n",
       "    <tr style=\"text-align: right;\">\n",
       "      <th></th>\n",
       "      <th>Unnamed: 0</th>\n",
       "      <th>Runs</th>\n",
       "      <th>Mins</th>\n",
       "      <th>BF</th>\n",
       "      <th>4s</th>\n",
       "      <th>6s</th>\n",
       "      <th>SR</th>\n",
       "      <th>Pos</th>\n",
       "      <th>Dismissal</th>\n",
       "      <th>Inns</th>\n",
       "      <th>Opposition</th>\n",
       "      <th>Ground</th>\n",
       "      <th>Start Date</th>\n",
       "    </tr>\n",
       "  </thead>\n",
       "  <tbody>\n",
       "    <tr>\n",
       "      <th>0</th>\n",
       "      <td>1</td>\n",
       "      <td>0</td>\n",
       "      <td>-</td>\n",
       "      <td>2</td>\n",
       "      <td>0</td>\n",
       "      <td>0</td>\n",
       "      <td>0</td>\n",
       "      <td>5</td>\n",
       "      <td>caught</td>\n",
       "      <td>2</td>\n",
       "      <td>v Pakistan</td>\n",
       "      <td>Gujranwala</td>\n",
       "      <td>18-Dec-89</td>\n",
       "    </tr>\n",
       "    <tr>\n",
       "      <th>1</th>\n",
       "      <td>2</td>\n",
       "      <td>0</td>\n",
       "      <td>2</td>\n",
       "      <td>2</td>\n",
       "      <td>0</td>\n",
       "      <td>0</td>\n",
       "      <td>0</td>\n",
       "      <td>5</td>\n",
       "      <td>caught</td>\n",
       "      <td>2</td>\n",
       "      <td>v New Zealand</td>\n",
       "      <td>Dunedin</td>\n",
       "      <td>1-Mar-90</td>\n",
       "    </tr>\n",
       "    <tr>\n",
       "      <th>2</th>\n",
       "      <td>3</td>\n",
       "      <td>36</td>\n",
       "      <td>51</td>\n",
       "      <td>39</td>\n",
       "      <td>5</td>\n",
       "      <td>0</td>\n",
       "      <td>92.3</td>\n",
       "      <td>6</td>\n",
       "      <td>caught</td>\n",
       "      <td>1</td>\n",
       "      <td>v New Zealand</td>\n",
       "      <td>Wellington</td>\n",
       "      <td>6-Mar-90</td>\n",
       "    </tr>\n",
       "    <tr>\n",
       "      <th>3</th>\n",
       "      <td>4</td>\n",
       "      <td>19</td>\n",
       "      <td>38</td>\n",
       "      <td>35</td>\n",
       "      <td>1</td>\n",
       "      <td>1</td>\n",
       "      <td>54.28</td>\n",
       "      <td>4</td>\n",
       "      <td>bowled</td>\n",
       "      <td>2</td>\n",
       "      <td>v England</td>\n",
       "      <td>Leeds</td>\n",
       "      <td>18-Jul-90</td>\n",
       "    </tr>\n",
       "    <tr>\n",
       "      <th>4</th>\n",
       "      <td>5</td>\n",
       "      <td>31</td>\n",
       "      <td>31</td>\n",
       "      <td>26</td>\n",
       "      <td>3</td>\n",
       "      <td>0</td>\n",
       "      <td>119.23</td>\n",
       "      <td>6</td>\n",
       "      <td>bowled</td>\n",
       "      <td>2</td>\n",
       "      <td>v England</td>\n",
       "      <td>Nottingham</td>\n",
       "      <td>20-Jul-90</td>\n",
       "    </tr>\n",
       "  </tbody>\n",
       "</table>\n",
       "</div>"
      ],
      "text/plain": [
       "   Unnamed: 0 Runs Mins  BF 4s 6s      SR Pos Dismissal Inns     Opposition  \\\n",
       "0           1    0    -   2  0  0       0   5    caught    2     v Pakistan   \n",
       "1           2    0    2   2  0  0       0   5    caught    2  v New Zealand   \n",
       "2           3   36   51  39  5  0    92.3   6    caught    1  v New Zealand   \n",
       "3           4   19   38  35  1  1   54.28   4    bowled    2      v England   \n",
       "4           5   31   31  26  3  0  119.23   6    bowled    2      v England   \n",
       "\n",
       "       Ground Start Date  \n",
       "0  Gujranwala  18-Dec-89  \n",
       "1     Dunedin   1-Mar-90  \n",
       "2  Wellington   6-Mar-90  \n",
       "3       Leeds  18-Jul-90  \n",
       "4  Nottingham  20-Jul-90  "
      ]
     },
     "execution_count": 17,
     "metadata": {},
     "output_type": "execute_result"
    }
   ],
   "source": [
    "df.head()"
   ]
  },
  {
   "cell_type": "code",
   "execution_count": 22,
   "metadata": {},
   "outputs": [
    {
     "name": "stdout",
     "output_type": "stream",
     "text": [
      "<class 'pandas.core.frame.DataFrame'>\n",
      "RangeIndex: 295 entries, 0 to 294\n",
      "Data columns (total 13 columns):\n",
      " #   Column      Non-Null Count  Dtype \n",
      "---  ------      --------------  ----- \n",
      " 0   Unnamed: 0  295 non-null    int64 \n",
      " 1   Runs        295 non-null    object\n",
      " 2   Mins        295 non-null    object\n",
      " 3   BF          295 non-null    object\n",
      " 4   4s          295 non-null    object\n",
      " 5   6s          295 non-null    object\n",
      " 6   SR          295 non-null    object\n",
      " 7   Pos         295 non-null    object\n",
      " 8   Dismissal   295 non-null    object\n",
      " 9   Inns        295 non-null    object\n",
      " 10  Opposition  295 non-null    object\n",
      " 11  Ground      295 non-null    object\n",
      " 12  Start Date  295 non-null    object\n",
      "dtypes: int64(1), object(12)\n",
      "memory usage: 30.1+ KB\n"
     ]
    },
    {
     "data": {
      "text/plain": [
       "(295, 13)"
      ]
     },
     "execution_count": 22,
     "metadata": {},
     "output_type": "execute_result"
    }
   ],
   "source": [
    "df.info()\n",
    "df.shape"
   ]
  },
  {
   "cell_type": "code",
   "execution_count": 21,
   "metadata": {},
   "outputs": [
    {
     "data": {
      "text/plain": [
       "array(['0', '36', '19', '31', '53', '30', 'DNB', '4', '62', '1', '57',\n",
       "       '21', '69', '11', '84', '39', '15', '10', '22', '32', '23', '82*',\n",
       "       '3', '24', '5', '34', '8*', '25', '26*', '2', '28*', '11*', '52',\n",
       "       '82', '63', '40', '6', '8', '115', '66', '54', '88', '105', '13',\n",
       "       '7', '65', '127*', '70', '90', '137', '110', '64', '28', '67',\n",
       "       '114', '14', '45', '44', '65*', '9', '117', '27', '100', '33',\n",
       "       '18', '100*', '17', '128', '29', '37', '120', '186*', '12', '26',\n",
       "       '122', '93', '146', '35', '139', '70*', '101', '38', '68', '87*',\n",
       "       '34*', '81', '89', '102', '86', '141', '74', '16', '47', '123',\n",
       "       '67*', '42', '95', '55', '60', 'TDNB', '99', '71', '94', '43',\n",
       "       '79', '72', '97', '117*', '91', '50', '20', '163*', '138', '175',\n",
       "       '96*', '200*', '111', '85'], dtype=object)"
      ]
     },
     "execution_count": 21,
     "metadata": {},
     "output_type": "execute_result"
    }
   ],
   "source": [
    "# Need to clean data as Runs contains * and 4s contains '-'\n",
    "df.Runs.unique()"
   ]
  },
  {
   "cell_type": "code",
   "execution_count": 38,
   "metadata": {},
   "outputs": [
    {
     "data": {
      "text/plain": [
       "Int64Index([8, 38], dtype='int64')"
      ]
     },
     "execution_count": 38,
     "metadata": {},
     "output_type": "execute_result"
    }
   ],
   "source": [
    "#There are values like DNB and TDNB \n",
    "df.loc[df.Runs == 'DNB'].index"
   ]
  },
  {
   "cell_type": "code",
   "execution_count": 41,
   "metadata": {},
   "outputs": [],
   "source": [
    "#Dropping rows with Runs DNB and TDNB\n",
    "df = df.drop(df.loc[df.Runs == 'DNB'].index)\n",
    "df = df.drop(df.loc[df.Runs == 'TDNB'].index)"
   ]
  },
  {
   "cell_type": "code",
   "execution_count": 42,
   "metadata": {},
   "outputs": [
    {
     "data": {
      "text/plain": [
       "array(['0', '36', '19', '31', '53', '30', '4', '62', '1', '57', '21',\n",
       "       '69', '11', '84', '39', '15', '10', '22', '32', '23', '82*', '3',\n",
       "       '24', '5', '34', '8*', '25', '26*', '2', '28*', '11*', '52', '82',\n",
       "       '63', '40', '6', '8', '115', '66', '54', '88', '105', '13', '7',\n",
       "       '65', '127*', '70', '90', '137', '110', '64', '28', '67', '114',\n",
       "       '14', '45', '44', '65*', '9', '117', '27', '100', '33', '18',\n",
       "       '100*', '17', '128', '29', '37', '120', '186*', '12', '26', '122',\n",
       "       '93', '146', '35', '139', '70*', '101', '38', '68', '87*', '34*',\n",
       "       '81', '89', '102', '86', '141', '74', '16', '47', '123', '67*',\n",
       "       '42', '95', '55', '60', '99', '71', '94', '43', '79', '72', '97',\n",
       "       '117*', '91', '50', '20', '163*', '138', '175', '96*', '200*',\n",
       "       '111', '85'], dtype=object)"
      ]
     },
     "execution_count": 42,
     "metadata": {},
     "output_type": "execute_result"
    }
   ],
   "source": [
    "df.Runs.unique()"
   ]
  },
  {
   "cell_type": "code",
   "execution_count": 45,
   "metadata": {},
   "outputs": [],
   "source": [
    "# Now Runs contain * in some cases need to remove\n",
    "df.Runs = df.Runs.apply(lambda x : int(x) if (x.find('*') == -1) else int(x[:-1]))"
   ]
  },
  {
   "cell_type": "code",
   "execution_count": 46,
   "metadata": {},
   "outputs": [
    {
     "data": {
      "text/plain": [
       "array([  0,  36,  19,  31,  53,  30,   4,  62,   1,  57,  21,  69,  11,\n",
       "        84,  39,  15,  10,  22,  32,  23,  82,   3,  24,   5,  34,   8,\n",
       "        25,  26,   2,  28,  52,  63,  40,   6, 115,  66,  54,  88, 105,\n",
       "        13,   7,  65, 127,  70,  90, 137, 110,  64,  67, 114,  14,  45,\n",
       "        44,   9, 117,  27, 100,  33,  18,  17, 128,  29,  37, 120, 186,\n",
       "        12, 122,  93, 146,  35, 139, 101,  38,  68,  87,  81,  89, 102,\n",
       "        86, 141,  74,  16,  47, 123,  42,  95,  55,  60,  99,  71,  94,\n",
       "        43,  79,  72,  97,  91,  50,  20, 163, 138, 175,  96, 200, 111,\n",
       "        85], dtype=int64)"
      ]
     },
     "execution_count": 46,
     "metadata": {},
     "output_type": "execute_result"
    }
   ],
   "source": [
    "df.Runs.unique()"
   ]
  },
  {
   "cell_type": "code",
   "execution_count": 47,
   "metadata": {},
   "outputs": [],
   "source": [
    "#Check Another colums that is 4s"
   ]
  },
  {
   "cell_type": "code",
   "execution_count": 50,
   "metadata": {},
   "outputs": [],
   "source": [
    "df['4s'] = df['4s'].apply(lambda x : int(x))"
   ]
  },
  {
   "cell_type": "code",
   "execution_count": 51,
   "metadata": {},
   "outputs": [
    {
     "data": {
      "text/plain": [
       "array([ 0,  5,  1,  3,  7,  2,  8,  6,  4, 15,  9, 13, 10, 14, 11, 20, 12,\n",
       "       19, 17, 16, 25], dtype=int64)"
      ]
     },
     "execution_count": 51,
     "metadata": {},
     "output_type": "execute_result"
    }
   ],
   "source": [
    "df['4s'].unique()"
   ]
  },
  {
   "cell_type": "markdown",
   "metadata": {},
   "source": [
    "##### Plot a bar chart showing runs scored on the x-axis and frequency/count on the y-axis"
   ]
  },
  {
   "cell_type": "code",
   "execution_count": 73,
   "metadata": {},
   "outputs": [
    {
     "data": {
      "text/plain": [
       "1     16\n",
       "2     14\n",
       "0     12\n",
       "4      9\n",
       "21     8\n",
       "      ..\n",
       "87     1\n",
       "89     1\n",
       "90     1\n",
       "91     1\n",
       "60     1\n",
       "Name: Runs, Length: 105, dtype: int64"
      ]
     },
     "execution_count": 73,
     "metadata": {},
     "output_type": "execute_result"
    }
   ],
   "source": [
    "import matplotlib.pyplot as plt\n",
    "import seaborn as sns\n",
    "df.Runs.value_counts()"
   ]
  },
  {
   "cell_type": "code",
   "execution_count": 82,
   "metadata": {},
   "outputs": [
    {
     "data": {
      "text/plain": [
       "<AxesSubplot:>"
      ]
     },
     "execution_count": 82,
     "metadata": {},
     "output_type": "execute_result"
    },
    {
     "data": {
      "image/png": "[encoded data removed]",
      "text/plain": [
       "<Figure size 432x288 with 1 Axes>"
      ]
     },
     "metadata": {
      "needs_background": "light"
     },
     "output_type": "display_data"
    }
   ],
   "source": [
    "bins = [0,10,20,30,40,50,75,100,125,150,200,250]\n",
    "df.Runs.value_counts().plot(kind= 'bar')"
   ]
  },
  {
   "cell_type": "code",
   "execution_count": 75,
   "metadata": {},
   "outputs": [],
   "source": [
    "# on 4s"
   ]
  },
  {
   "cell_type": "code",
   "execution_count": 79,
   "metadata": {},
   "outputs": [
    {
     "data": {
      "text/plain": [
       "<AxesSubplot:>"
      ]
     },
     "execution_count": 79,
     "metadata": {},
     "output_type": "execute_result"
    },
    {
     "data": {
      "image/png": "[encoded data removed]",
      "text/plain": [
       "<Figure size 432x288 with 1 Axes>"
      ]
     },
     "metadata": {
      "needs_background": "light"
     },
     "output_type": "display_data"
    }
   ],
   "source": [
    "bins = [0,1,2,3,4,5,6,7,8,9,10,15,20,25]\n",
    "\n",
    "df['4s'].value_counts().plot(kind='bar')"
   ]
  },
  {
   "cell_type": "markdown",
   "metadata": {},
   "source": [
    "### Quantitative Variables - Summary Metrics"
   ]
  },
  {
   "cell_type": "code",
   "execution_count": 97,
   "metadata": {},
   "outputs": [],
   "source": [
    "df = pd.read_csv(\"popularity.csv\")"
   ]
  },
  {
   "cell_type": "code",
   "execution_count": 99,
   "metadata": {},
   "outputs": [
    {
     "data": {
      "text/plain": [
       "Index(['url', ' timedelta', ' n_tokens_title', ' n_tokens_content',\n",
       "       ' n_unique_tokens', ' n_non_stop_words', ' n_non_stop_unique_tokens',\n",
       "       ' num_hrefs', ' num_self_hrefs', ' num_imgs', ' num_videos',\n",
       "       ' average_token_length', ' num_keywords', ' data_channel_is_lifestyle',\n",
       "       ' data_channel_is_entertainment', ' data_channel_is_bus',\n",
       "       ' data_channel_is_socmed', ' data_channel_is_tech',\n",
       "       ' data_channel_is_world', ' kw_min_min', ' kw_max_min', ' kw_avg_min',\n",
       "       ' kw_min_max', ' kw_max_max', ' kw_avg_max', ' kw_min_avg',\n",
       "       ' kw_max_avg', ' kw_avg_avg', ' self_reference_min_shares',\n",
       "       ' self_reference_max_shares', ' self_reference_avg_sharess',\n",
       "       ' weekday_is_monday', ' weekday_is_tuesday', ' weekday_is_wednesday',\n",
       "       ' weekday_is_thursday', ' weekday_is_friday', ' weekday_is_saturday',\n",
       "       ' weekday_is_sunday', ' is_weekend', ' LDA_00', ' LDA_01', ' LDA_02',\n",
       "       ' LDA_03', ' LDA_04', ' global_subjectivity',\n",
       "       ' global_sentiment_polarity', ' global_rate_positive_words',\n",
       "       ' global_rate_negative_words', ' rate_positive_words',\n",
       "       ' rate_negative_words', ' avg_positive_polarity',\n",
       "       ' min_positive_polarity', ' max_positive_polarity',\n",
       "       ' avg_negative_polarity', ' min_negative_polarity',\n",
       "       ' max_negative_polarity', ' title_subjectivity',\n",
       "       ' title_sentiment_polarity', ' abs_title_subjectivity',\n",
       "       ' abs_title_sentiment_polarity', ' shares'],\n",
       "      dtype='object')"
      ]
     },
     "execution_count": 99,
     "metadata": {},
     "output_type": "execute_result"
    }
   ],
   "source": [
    "df.columns"
   ]
  },
  {
   "cell_type": "code",
   "execution_count": 105,
   "metadata": {},
   "outputs": [
    {
     "data": {
      "text/plain": [
       "count     39644.000000\n",
       "mean       3395.380184\n",
       "std       11626.950749\n",
       "min           1.000000\n",
       "25%         946.000000\n",
       "50%        1400.000000\n",
       "75%        2800.000000\n",
       "max      843300.000000\n",
       "Name:  shares, dtype: float64"
      ]
     },
     "execution_count": 105,
     "metadata": {},
     "output_type": "execute_result"
    }
   ],
   "source": [
    "df[\" shares\"].describe()"
   ]
  },
  {
   "cell_type": "code",
   "execution_count": 108,
   "metadata": {},
   "outputs": [
    {
     "data": {
      "text/plain": [
       "3100.0"
      ]
     },
     "execution_count": 108,
     "metadata": {},
     "output_type": "execute_result"
    }
   ],
   "source": [
    "#What number of shares falls at the 78th percentile?\n",
    "df[\" shares\"].quantile(0.78)"
   ]
  },
  {
   "cell_type": "code",
   "execution_count": 110,
   "metadata": {},
   "outputs": [
    {
     "name": "stderr",
     "output_type": "stream",
     "text": [
      "C:\\ProgramData\\Anaconda3\\lib\\site-packages\\seaborn\\_decorators.py:36: FutureWarning: Pass the following variable as a keyword arg: x. From version 0.12, the only valid positional argument will be `data`, and passing other arguments without an explicit keyword will result in an error or misinterpretation.\n",
      "  warnings.warn(\n"
     ]
    },
    {
     "data": {
      "text/plain": [
       "<AxesSubplot:xlabel=' shares'>"
      ]
     },
     "execution_count": 110,
     "metadata": {},
     "output_type": "execute_result"
    },
    {
     "data": {
      "image/png": "[encoded data removed]",
      "text/plain": [
       "<Figure size 432x288 with 1 Axes>"
      ]
     },
     "metadata": {
      "needs_background": "light"
     },
     "output_type": "display_data"
    }
   ],
   "source": [
    "sns.boxplot(df[\" shares\"])"
   ]
  },
  {
   "cell_type": "code",
   "execution_count": 131,
   "metadata": {},
   "outputs": [
    {
     "data": {
      "text/plain": [
       "count    37663.000000\n",
       "mean      2074.334387\n",
       "std       1871.814139\n",
       "min          1.000000\n",
       "25%        927.000000\n",
       "50%       1400.000000\n",
       "75%       2400.000000\n",
       "max      10800.000000\n",
       "Name:  shares, dtype: float64"
      ]
     },
     "execution_count": 131,
     "metadata": {},
     "output_type": "execute_result"
    }
   ],
   "source": [
    "#What is the mean number of shares after removing the outliers?\n",
    "P = np.percentile(df[\" shares\"],95)\n",
    "\n",
    "df2 = df[df[\" shares\"] <= P]\n",
    "df2[\" shares\"].describe()"
   ]
  },
  {
   "cell_type": "code",
   "execution_count": 130,
   "metadata": {},
   "outputs": [
    {
     "data": {
      "text/plain": [
       "1871.8141388441672"
      ]
     },
     "execution_count": 130,
     "metadata": {},
     "output_type": "execute_result"
    }
   ],
   "source": [
    "#What is the approximate standard deviation of the shares after removing the outliers?\n",
    "import statistics\n",
    "statistics.stdev(df2[\" shares\"])"
   ]
  },
  {
   "cell_type": "code",
   "execution_count": 134,
   "metadata": {},
   "outputs": [
    {
     "data": {
      "text/plain": [
       "0.049969730602360984"
      ]
     },
     "execution_count": 134,
     "metadata": {},
     "output_type": "execute_result"
    }
   ],
   "source": [
    "1 -df2.shape[0]/df.shape[0]\n"
   ]
  },
  {
   "cell_type": "code",
   "execution_count": null,
   "metadata": {},
   "outputs": [],
   "source": []
  }
 ],
 "metadata": {
  "kernelspec": {
   "display_name": "Python 3",
   "language": "python",
   "name": "python3"
  },
  "language_info": {
   "codemirror_mode": {
    "name": "ipython",
    "version": 3
   },
   "file_extension": ".py",
   "mimetype": "text/x-python",
   "name": "python",
   "nbconvert_exporter": "python",
   "pygments_lexer": "ipython3",
   "version": "3.8.5"
  }
 },
 "nbformat": 4,
 "nbformat_minor": 4
}
