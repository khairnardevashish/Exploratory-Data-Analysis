{
 "cells": [
  {
   "cell_type": "markdown",
   "metadata": {},
   "source": [
    "### Goal is to understand\n",
    "\n",
    "1 .The typical dates when students submit assignments\n",
    "\n",
    "2 .The typical times (hour of the day) of submissions"
   ]
  },
  {
   "cell_type": "code",
   "execution_count": 100,
   "metadata": {},
   "outputs": [],
   "source": [
    "import numpy as np\n",
    "import pandas as pd\n",
    "import matplotlib.pyplot as plt\n",
    "import seaborn as sns"
   ]
  },
  {
   "cell_type": "code",
   "execution_count": 101,
   "metadata": {},
   "outputs": [
    {
     "data": {
      "text/plain": [
       "(198, 2)"
      ]
     },
     "execution_count": 101,
     "metadata": {},
     "output_type": "execute_result"
    }
   ],
   "source": [
    "df = pd.read_csv(\"grades.csv\")\n",
    "df.shape"
   ]
  },
  {
   "cell_type": "code",
   "execution_count": 102,
   "metadata": {},
   "outputs": [
    {
     "data": {
      "text/html": [
       "<div>\n",
       "<style scoped>\n",
       "    .dataframe tbody tr th:only-of-type {\n",
       "        vertical-align: middle;\n",
       "    }\n",
       "\n",
       "    .dataframe tbody tr th {\n",
       "        vertical-align: top;\n",
       "    }\n",
       "\n",
       "    .dataframe thead th {\n",
       "        text-align: right;\n",
       "    }\n",
       "</style>\n",
       "<table border=\"1\" class=\"dataframe\">\n",
       "  <thead>\n",
       "    <tr style=\"text-align: right;\">\n",
       "      <th></th>\n",
       "      <th>submission</th>\n",
       "      <th>submit_time</th>\n",
       "    </tr>\n",
       "  </thead>\n",
       "  <tbody>\n",
       "    <tr>\n",
       "      <th>0</th>\n",
       "      <td>https://ckd.upgrad.com/UpGrad/73ba5189-94fd-44...</td>\n",
       "      <td>01/03/17-20:28:52</td>\n",
       "    </tr>\n",
       "    <tr>\n",
       "      <th>1</th>\n",
       "      <td>https://ckd.upgrad.com/UpGrad/185242ff-7508-4c...</td>\n",
       "      <td>01/03/17-20:18:21</td>\n",
       "    </tr>\n",
       "    <tr>\n",
       "      <th>2</th>\n",
       "      <td>https://ckd.upgrad.com/UpGrad/a353d129-c100-43...</td>\n",
       "      <td>01/03/17-22:37:08</td>\n",
       "    </tr>\n",
       "    <tr>\n",
       "      <th>3</th>\n",
       "      <td>https://ckd.upgrad.com/UpGrad/002fc912-faa1-49...</td>\n",
       "      <td>01/02/17-21:43:19</td>\n",
       "    </tr>\n",
       "    <tr>\n",
       "      <th>4</th>\n",
       "      <td>https://ckd.upgrad.com/UpGrad/25cbc4a4-6d49-4f...</td>\n",
       "      <td>01/03/17-15:27:49</td>\n",
       "    </tr>\n",
       "    <tr>\n",
       "      <th>...</th>\n",
       "      <td>...</td>\n",
       "      <td>...</td>\n",
       "    </tr>\n",
       "    <tr>\n",
       "      <th>193</th>\n",
       "      <td>https://ckd.upgrad.com/UpGrad/ba485323-bba6-4b...</td>\n",
       "      <td>01/03/17-22:43:12</td>\n",
       "    </tr>\n",
       "    <tr>\n",
       "      <th>194</th>\n",
       "      <td>https://ckd.upgrad.com/UpGrad/a65694d0-339b-44...</td>\n",
       "      <td>01/09/17-23:59:34</td>\n",
       "    </tr>\n",
       "    <tr>\n",
       "      <th>195</th>\n",
       "      <td>https://ckd.upgrad.com/UpGrad/c3876ddf-2b2f-4a...</td>\n",
       "      <td>12/19/16-21:44:13</td>\n",
       "    </tr>\n",
       "    <tr>\n",
       "      <th>196</th>\n",
       "      <td>https://ckd.upgrad.com/UpGrad/2b9732ad-0985-4a...</td>\n",
       "      <td>01/09/17-23:23:06</td>\n",
       "    </tr>\n",
       "    <tr>\n",
       "      <th>197</th>\n",
       "      <td>https://ckd.upgrad.com/UpGrad/21da378c-75a4-4a...</td>\n",
       "      <td>01/03/17-22:32:38</td>\n",
       "    </tr>\n",
       "  </tbody>\n",
       "</table>\n",
       "<p>198 rows × 2 columns</p>\n",
       "</div>"
      ],
      "text/plain": [
       "                                            submission        submit_time\n",
       "0    https://ckd.upgrad.com/UpGrad/73ba5189-94fd-44...  01/03/17-20:28:52\n",
       "1    https://ckd.upgrad.com/UpGrad/185242ff-7508-4c...  01/03/17-20:18:21\n",
       "2    https://ckd.upgrad.com/UpGrad/a353d129-c100-43...  01/03/17-22:37:08\n",
       "3    https://ckd.upgrad.com/UpGrad/002fc912-faa1-49...  01/02/17-21:43:19\n",
       "4    https://ckd.upgrad.com/UpGrad/25cbc4a4-6d49-4f...  01/03/17-15:27:49\n",
       "..                                                 ...                ...\n",
       "193  https://ckd.upgrad.com/UpGrad/ba485323-bba6-4b...  01/03/17-22:43:12\n",
       "194  https://ckd.upgrad.com/UpGrad/a65694d0-339b-44...  01/09/17-23:59:34\n",
       "195  https://ckd.upgrad.com/UpGrad/c3876ddf-2b2f-4a...  12/19/16-21:44:13\n",
       "196  https://ckd.upgrad.com/UpGrad/2b9732ad-0985-4a...  01/09/17-23:23:06\n",
       "197  https://ckd.upgrad.com/UpGrad/21da378c-75a4-4a...  01/03/17-22:32:38\n",
       "\n",
       "[198 rows x 2 columns]"
      ]
     },
     "execution_count": 102,
     "metadata": {},
     "output_type": "execute_result"
    }
   ],
   "source": [
    "df"
   ]
  },
  {
   "cell_type": "code",
   "execution_count": 103,
   "metadata": {},
   "outputs": [],
   "source": [
    "import datetime"
   ]
  },
  {
   "cell_type": "code",
   "execution_count": 104,
   "metadata": {},
   "outputs": [],
   "source": [
    "df[\"submit_time\"] = pd.to_datetime(df[\"submit_time\"], infer_datetime_format=True)"
   ]
  },
  {
   "cell_type": "code",
   "execution_count": 105,
   "metadata": {},
   "outputs": [],
   "source": [
    "df[\"date\"] = df[\"submit_time\"].apply(lambda x : x.date())\n",
    "df[\"time\"] = df[\"submit_time\"].apply(lambda x : x.time())"
   ]
  },
  {
   "cell_type": "markdown",
   "metadata": {},
   "source": [
    "##### What percentage of students submitted their solutions in .zip format?"
   ]
  },
  {
   "cell_type": "code",
   "execution_count": 106,
   "metadata": {},
   "outputs": [
    {
     "data": {
      "text/plain": [
       "zip    189\n",
       "R        7\n",
       "7z       2\n",
       "Name: file_type, dtype: int64"
      ]
     },
     "execution_count": 106,
     "metadata": {},
     "output_type": "execute_result"
    }
   ],
   "source": [
    "df[\"file_type\"] = df[\"submission\"].apply(lambda x : x.split(\".\")[-1])\n",
    "df[\"file_type\"].value_counts()"
   ]
  },
  {
   "cell_type": "code",
   "execution_count": 107,
   "metadata": {},
   "outputs": [
    {
     "name": "stdout",
     "output_type": "stream",
     "text": [
      "0.9545454545454546\n"
     ]
    }
   ],
   "source": [
    "print(189/df.shape[0])"
   ]
  },
  {
   "cell_type": "code",
   "execution_count": 108,
   "metadata": {},
   "outputs": [],
   "source": [
    "# Another way\n",
    "url = df[\"submission\"]\n",
    "count = url.str.count(\"zip\") "
   ]
  },
  {
   "cell_type": "code",
   "execution_count": 109,
   "metadata": {},
   "outputs": [
    {
     "name": "stdout",
     "output_type": "stream",
     "text": [
      "189\n"
     ]
    }
   ],
   "source": [
    "from functools import reduce\n",
    "print(reduce(lambda x, y : x + y if x > 0 else x + 0 , count))"
   ]
  },
  {
   "cell_type": "markdown",
   "metadata": {},
   "source": [
    "### How many students submitted the assignment after the first deadline (including the students who submitted after the second deadline) ?"
   ]
  },
  {
   "cell_type": "code",
   "execution_count": 110,
   "metadata": {},
   "outputs": [
    {
     "name": "stdout",
     "output_type": "stream",
     "text": [
      "2017-01-03\n",
      "2017-01-09\n"
     ]
    }
   ],
   "source": [
    "submission_first = \"01/03/17-23:59:59\"\n",
    "submission_first = pd.to_datetime(submission_first, infer_datetime_format=True).date()\n",
    "\n",
    "submission_last = \"01/09/17-22:59:00\"\n",
    "submission_last = pd.to_datetime(submission_last, infer_datetime_format=True).date()\n",
    "\n",
    "print(submission_first)\n",
    "print(submission_last)"
   ]
  },
  {
   "cell_type": "code",
   "execution_count": 122,
   "metadata": {},
   "outputs": [
    {
     "data": {
      "text/plain": [
       "False    154\n",
       "True      44\n",
       "Name: is_late, dtype: int64"
      ]
     },
     "execution_count": 122,
     "metadata": {},
     "output_type": "execute_result"
    }
   ],
   "source": [
    "df[\"is_late\"] = (df[\"date\"] > submission_first)\n",
    "df[\"is_late\"].value_counts()"
   ]
  },
  {
   "cell_type": "code",
   "execution_count": 123,
   "metadata": {},
   "outputs": [
    {
     "data": {
      "text/plain": [
       "(44, 6)"
      ]
     },
     "execution_count": 123,
     "metadata": {},
     "output_type": "execute_result"
    }
   ],
   "source": [
    "#Another Way\n",
    "late_submission_df = df[df[\"date\"] > submission_first]\n",
    "late_submission_df.shape"
   ]
  },
  {
   "cell_type": "markdown",
   "metadata": {},
   "source": [
    "### On which date did the most students submit the assignment?"
   ]
  },
  {
   "cell_type": "code",
   "execution_count": 124,
   "metadata": {},
   "outputs": [
    {
     "data": {
      "text/plain": [
       "2017-01-03    120\n",
       "2017-01-09     21\n",
       "2017-01-02     14\n",
       "2017-01-04     12\n",
       "2017-01-01      6\n",
       "2016-12-30      6\n",
       "2017-01-10      3\n",
       "2017-01-08      3\n",
       "2017-01-07      2\n",
       "2016-12-29      2\n",
       "2016-12-28      2\n",
       "2017-01-17      1\n",
       "2016-12-31      1\n",
       "2016-11-19      1\n",
       "2017-02-03      1\n",
       "2016-12-21      1\n",
       "2016-12-19      1\n",
       "2017-01-06      1\n",
       "Name: date, dtype: int64"
      ]
     },
     "execution_count": 124,
     "metadata": {},
     "output_type": "execute_result"
    }
   ],
   "source": [
    "df[\"date\"].value_counts()"
   ]
  },
  {
   "cell_type": "markdown",
   "metadata": {},
   "source": [
    "### In which hour of the day did most students submit the solution?"
   ]
  },
  {
   "cell_type": "code",
   "execution_count": 132,
   "metadata": {},
   "outputs": [
    {
     "data": {
      "text/plain": [
       "23    66\n",
       "21    27\n",
       "22    24\n",
       "20    16\n",
       "0     10\n",
       "1      8\n",
       "18     6\n",
       "14     6\n",
       "13     6\n",
       "17     4\n",
       "15     4\n",
       "3      3\n",
       "10     3\n",
       "12     3\n",
       "4      2\n",
       "19     2\n",
       "2      2\n",
       "16     2\n",
       "11     1\n",
       "9      1\n",
       "8      1\n",
       "6      1\n",
       "Name: hour, dtype: int64"
      ]
     },
     "execution_count": 132,
     "metadata": {},
     "output_type": "execute_result"
    }
   ],
   "source": [
    "df[\"hour\"] = df[\"time\"].apply(lambda x : x.hour)\n",
    "df[\"hour\"].value_counts()"
   ]
  },
  {
   "cell_type": "markdown",
   "metadata": {},
   "source": [
    "### If you plot the distribution of submissions by the hour, what can you observe?"
   ]
  },
  {
   "cell_type": "code",
   "execution_count": 136,
   "metadata": {},
   "outputs": [
    {
     "data": {
      "text/plain": [
       "<AxesSubplot:xlabel='hour', ylabel='Count'>"
      ]
     },
     "execution_count": 136,
     "metadata": {},
     "output_type": "execute_result"
    },
    {
     "data": {
      "image/png": "[encoded data removed]",
      "text/plain": [
       "<Figure size 432x288 with 1 Axes>"
      ]
     },
     "metadata": {
      "needs_background": "light"
     },
     "output_type": "display_data"
    }
   ],
   "source": [
    "sns.histplot(df[\"hour\"])"
   ]
  },
  {
   "cell_type": "markdown",
   "metadata": {},
   "source": [
    "Answer : Most people submit the assignment in the late evening (i.e. after 8 PM)"
   ]
  },
  {
   "cell_type": "code",
   "execution_count": null,
   "metadata": {},
   "outputs": [],
   "source": []
  }
 ],
 "metadata": {
  "kernelspec": {
   "display_name": "Python 3",
   "language": "python",
   "name": "python3"
  },
  "language_info": {
   "codemirror_mode": {
    "name": "ipython",
    "version": 3
   },
   "file_extension": ".py",
   "mimetype": "text/x-python",
   "name": "python",
   "nbconvert_exporter": "python",
   "pygments_lexer": "ipython3",
   "version": "3.8.5"
  }
 },
 "nbformat": 4,
 "nbformat_minor": 4
}
